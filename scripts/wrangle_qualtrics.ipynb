{
 "cells": [
  {
   "cell_type": "markdown",
   "metadata": {},
   "source": [
    "## Import Libraries, Define Paths"
   ]
  },
  {
   "cell_type": "code",
   "execution_count": 1,
   "metadata": {},
   "outputs": [],
   "source": [
    "import pandas as pd\n",
    "import numpy as np\n",
    "import os\n",
    "\n",
    "base = '/Users/jetcalz07/Desktop/MIDS/W241_Experiments/project/'\n",
    "data = base + 'data/'"
   ]
  },
  {
   "cell_type": "markdown",
   "metadata": {},
   "source": [
    "## Load Data"
   ]
  },
  {
   "cell_type": "code",
   "execution_count": 2,
   "metadata": {},
   "outputs": [],
   "source": [
    "# Filter columns from extract, rename\n",
    "keep_cols = ['IPAddress', 'Random ID', 'Q26', 'Q2', 'Q27', 'Q28', 'Q3', 'Q4', 'Q7', 'Q8', 'Q9', 'Q10', \n",
    "'Message_Received', 'Shelter_Information', 'Shelter_Type_1', 'Shelter_Type_2', 'Shelter_Type_3', 'Shelter_Type_4', \n",
    "'Small_1', 'Small_2', 'Small_3', 'Small_4', 'Medium_1', 'Medium_2', 'Medium_3', 'Medium_4', \n",
    "'Large_1', 'Large_2', 'Large_3', 'Large_4', 'Duration (in seconds)']\n",
    "rename_cols = ['ip', 'rid', 'rid_pasted', 'age_bin', 'gender', 'marital', 'income_bin', 'state',\n",
    "'own_dog', 'dog_or_cat', 'adopt_or_shop', 'dog_size',  'msg_treat_ind', 'shelter_treat_bin',\n",
    "'shelter_tp_1', 'shelter_tp_2', 'shelter_tp_3', 'shelter_tp_4', 'sm_1', 'sm_2', 'sm_3', 'sm_4',\n",
    "'med_1', 'med_2', 'med_3', 'med_4', 'lg_1', 'lg_2', 'lg_3', 'lg_4', 'duration']\n",
    "trim_cols =  ['ip', 'rid', 'rid_match_qualtrics', 'age_bin', 'gender', 'marital', 'income_bin', 'state',\n",
    "'own_dog', 'dog_or_cat', 'adopt_or_shop', 'dog_size',  'msg_treat_ind', 'shelter_treat_bin', 'duration']\n",
    "desired_cols =  trim_cols + ['dog_num', 'rating', 'shelter_tp']"
   ]
  },
  {
   "cell_type": "code",
   "execution_count": 3,
   "metadata": {},
   "outputs": [
    {
     "name": "stdout",
     "output_type": "stream",
     "text": [
      "No. participants: 1\n"
     ]
    },
    {
     "data": {
      "text/html": [
       "<div>\n",
       "<style scoped>\n",
       "    .dataframe tbody tr th:only-of-type {\n",
       "        vertical-align: middle;\n",
       "    }\n",
       "\n",
       "    .dataframe tbody tr th {\n",
       "        vertical-align: top;\n",
       "    }\n",
       "\n",
       "    .dataframe thead th {\n",
       "        text-align: right;\n",
       "    }\n",
       "</style>\n",
       "<table border=\"1\" class=\"dataframe\">\n",
       "  <thead>\n",
       "    <tr style=\"text-align: right;\">\n",
       "      <th></th>\n",
       "      <th>index</th>\n",
       "      <th>ip</th>\n",
       "      <th>duration</th>\n",
       "      <th>age_bin</th>\n",
       "      <th>gender</th>\n",
       "      <th>marital</th>\n",
       "      <th>income_bin</th>\n",
       "      <th>state</th>\n",
       "      <th>own_dog</th>\n",
       "      <th>dog_or_cat</th>\n",
       "      <th>...</th>\n",
       "      <th>lg_3</th>\n",
       "      <th>lg_4</th>\n",
       "      <th>rid_pasted</th>\n",
       "      <th>rid</th>\n",
       "      <th>msg_treat_ind</th>\n",
       "      <th>shelter_treat_bin</th>\n",
       "      <th>shelter_tp_1</th>\n",
       "      <th>shelter_tp_2</th>\n",
       "      <th>shelter_tp_3</th>\n",
       "      <th>shelter_tp_4</th>\n",
       "    </tr>\n",
       "  </thead>\n",
       "  <tbody>\n",
       "    <tr>\n",
       "      <th>0</th>\n",
       "      <td>0</td>\n",
       "      <td>174.234.0.95</td>\n",
       "      <td>54</td>\n",
       "      <td>Under 18 years</td>\n",
       "      <td>Female</td>\n",
       "      <td>Single</td>\n",
       "      <td>$25,000-$49,999</td>\n",
       "      <td>Hawaii</td>\n",
       "      <td>No, but I own another pet</td>\n",
       "      <td>Cats</td>\n",
       "      <td>...</td>\n",
       "      <td>8</td>\n",
       "      <td>3</td>\n",
       "      <td>TEST</td>\n",
       "      <td>690005</td>\n",
       "      <td>Yes</td>\n",
       "      <td>Yes</td>\n",
       "      <td>Traditional Shelter</td>\n",
       "      <td>No-Kill Shelter</td>\n",
       "      <td>Traditional Shelter</td>\n",
       "      <td>No-Kill Shelter</td>\n",
       "    </tr>\n",
       "  </tbody>\n",
       "</table>\n",
       "<p>1 rows × 32 columns</p>\n",
       "</div>"
      ],
      "text/plain": [
       "   index            ip duration         age_bin  gender marital  \\\n",
       "0      0  174.234.0.95       54  Under 18 years  Female  Single   \n",
       "\n",
       "        income_bin   state                    own_dog dog_or_cat  ... lg_3  \\\n",
       "0  $25,000-$49,999  Hawaii  No, but I own another pet       Cats  ...    8   \n",
       "\n",
       "  lg_4 rid_pasted     rid msg_treat_ind shelter_treat_bin  \\\n",
       "0    3       TEST  690005           Yes               Yes   \n",
       "\n",
       "          shelter_tp_1     shelter_tp_2         shelter_tp_3     shelter_tp_4  \n",
       "0  Traditional Shelter  No-Kill Shelter  Traditional Shelter  No-Kill Shelter  \n",
       "\n",
       "[1 rows x 32 columns]"
      ]
     },
     "execution_count": 3,
     "metadata": {},
     "output_type": "execute_result"
    }
   ],
   "source": [
    "# Load relevant columns from Qualtrics output, trim fat, rename\n",
    "fname = 'DOG ADOPTION SURVEY_November 19, 2022_09.38.csv'\n",
    "df_init = pd.read_csv(data+fname, usecols=keep_cols)\n",
    "df_init.rename(columns=dict(zip(keep_cols, rename_cols)), inplace=True)\n",
    "df_init = df_init.iloc[2:, ]\n",
    "df_init.reset_index(inplace=True, drop=True)\n",
    "df_init.reset_index(level = 0,inplace=True)\n",
    "print(f\"No. participants: {len(df_init)}\")\n",
    "df_init.head()"
   ]
  },
  {
   "cell_type": "code",
   "execution_count": 4,
   "metadata": {},
   "outputs": [],
   "source": [
    "## Create features at participant level\n",
    "# 1. Check if rids match within Qualtrics (not essential but may help)\n",
    "df_init['rid_match_qualtrics'] = df_init['rid']==df_init['rid_pasted']"
   ]
  },
  {
   "cell_type": "markdown",
   "metadata": {},
   "source": [
    "## Wrangle Data"
   ]
  },
  {
   "cell_type": "code",
   "execution_count": 5,
   "metadata": {},
   "outputs": [
    {
     "data": {
      "text/html": [
       "<div>\n",
       "<style scoped>\n",
       "    .dataframe tbody tr th:only-of-type {\n",
       "        vertical-align: middle;\n",
       "    }\n",
       "\n",
       "    .dataframe tbody tr th {\n",
       "        vertical-align: top;\n",
       "    }\n",
       "\n",
       "    .dataframe thead th {\n",
       "        text-align: right;\n",
       "    }\n",
       "</style>\n",
       "<table border=\"1\" class=\"dataframe\">\n",
       "  <thead>\n",
       "    <tr style=\"text-align: right;\">\n",
       "      <th></th>\n",
       "      <th>ip</th>\n",
       "      <th>rid</th>\n",
       "      <th>rid_match_qualtrics</th>\n",
       "      <th>age_bin</th>\n",
       "      <th>gender</th>\n",
       "      <th>marital</th>\n",
       "      <th>income_bin</th>\n",
       "      <th>state</th>\n",
       "      <th>own_dog</th>\n",
       "      <th>dog_or_cat</th>\n",
       "      <th>adopt_or_shop</th>\n",
       "      <th>dog_size</th>\n",
       "      <th>msg_treat_ind</th>\n",
       "      <th>shelter_treat_bin</th>\n",
       "      <th>duration</th>\n",
       "      <th>dog_num</th>\n",
       "      <th>rating</th>\n",
       "      <th>shelter_tp</th>\n",
       "    </tr>\n",
       "  </thead>\n",
       "  <tbody>\n",
       "    <tr>\n",
       "      <th>0</th>\n",
       "      <td>174.234.0.95</td>\n",
       "      <td>690005</td>\n",
       "      <td>False</td>\n",
       "      <td>Under 18 years</td>\n",
       "      <td>Female</td>\n",
       "      <td>Single</td>\n",
       "      <td>$25,000-$49,999</td>\n",
       "      <td>Hawaii</td>\n",
       "      <td>No, but I own another pet</td>\n",
       "      <td>Cats</td>\n",
       "      <td>I will adopt a dog</td>\n",
       "      <td>Large (Greater than 60 lbs.)</td>\n",
       "      <td>Yes</td>\n",
       "      <td>Yes</td>\n",
       "      <td>54</td>\n",
       "      <td>1</td>\n",
       "      <td>7</td>\n",
       "      <td>Traditional Shelter</td>\n",
       "    </tr>\n",
       "    <tr>\n",
       "      <th>1</th>\n",
       "      <td>174.234.0.95</td>\n",
       "      <td>690005</td>\n",
       "      <td>False</td>\n",
       "      <td>Under 18 years</td>\n",
       "      <td>Female</td>\n",
       "      <td>Single</td>\n",
       "      <td>$25,000-$49,999</td>\n",
       "      <td>Hawaii</td>\n",
       "      <td>No, but I own another pet</td>\n",
       "      <td>Cats</td>\n",
       "      <td>I will adopt a dog</td>\n",
       "      <td>Large (Greater than 60 lbs.)</td>\n",
       "      <td>Yes</td>\n",
       "      <td>Yes</td>\n",
       "      <td>54</td>\n",
       "      <td>2</td>\n",
       "      <td>8</td>\n",
       "      <td>No-Kill Shelter</td>\n",
       "    </tr>\n",
       "    <tr>\n",
       "      <th>2</th>\n",
       "      <td>174.234.0.95</td>\n",
       "      <td>690005</td>\n",
       "      <td>False</td>\n",
       "      <td>Under 18 years</td>\n",
       "      <td>Female</td>\n",
       "      <td>Single</td>\n",
       "      <td>$25,000-$49,999</td>\n",
       "      <td>Hawaii</td>\n",
       "      <td>No, but I own another pet</td>\n",
       "      <td>Cats</td>\n",
       "      <td>I will adopt a dog</td>\n",
       "      <td>Large (Greater than 60 lbs.)</td>\n",
       "      <td>Yes</td>\n",
       "      <td>Yes</td>\n",
       "      <td>54</td>\n",
       "      <td>3</td>\n",
       "      <td>8</td>\n",
       "      <td>Traditional Shelter</td>\n",
       "    </tr>\n",
       "    <tr>\n",
       "      <th>3</th>\n",
       "      <td>174.234.0.95</td>\n",
       "      <td>690005</td>\n",
       "      <td>False</td>\n",
       "      <td>Under 18 years</td>\n",
       "      <td>Female</td>\n",
       "      <td>Single</td>\n",
       "      <td>$25,000-$49,999</td>\n",
       "      <td>Hawaii</td>\n",
       "      <td>No, but I own another pet</td>\n",
       "      <td>Cats</td>\n",
       "      <td>I will adopt a dog</td>\n",
       "      <td>Large (Greater than 60 lbs.)</td>\n",
       "      <td>Yes</td>\n",
       "      <td>Yes</td>\n",
       "      <td>54</td>\n",
       "      <td>4</td>\n",
       "      <td>3</td>\n",
       "      <td>No-Kill Shelter</td>\n",
       "    </tr>\n",
       "  </tbody>\n",
       "</table>\n",
       "</div>"
      ],
      "text/plain": [
       "             ip     rid rid_match_qualtrics         age_bin  gender marital  \\\n",
       "0  174.234.0.95  690005               False  Under 18 years  Female  Single   \n",
       "1  174.234.0.95  690005               False  Under 18 years  Female  Single   \n",
       "2  174.234.0.95  690005               False  Under 18 years  Female  Single   \n",
       "3  174.234.0.95  690005               False  Under 18 years  Female  Single   \n",
       "\n",
       "        income_bin   state                    own_dog dog_or_cat  \\\n",
       "0  $25,000-$49,999  Hawaii  No, but I own another pet       Cats   \n",
       "1  $25,000-$49,999  Hawaii  No, but I own another pet       Cats   \n",
       "2  $25,000-$49,999  Hawaii  No, but I own another pet       Cats   \n",
       "3  $25,000-$49,999  Hawaii  No, but I own another pet       Cats   \n",
       "\n",
       "        adopt_or_shop                      dog_size msg_treat_ind  \\\n",
       "0  I will adopt a dog  Large (Greater than 60 lbs.)           Yes   \n",
       "1  I will adopt a dog  Large (Greater than 60 lbs.)           Yes   \n",
       "2  I will adopt a dog  Large (Greater than 60 lbs.)           Yes   \n",
       "3  I will adopt a dog  Large (Greater than 60 lbs.)           Yes   \n",
       "\n",
       "  shelter_treat_bin duration dog_num rating           shelter_tp  \n",
       "0               Yes       54       1      7  Traditional Shelter  \n",
       "1               Yes       54       2      8      No-Kill Shelter  \n",
       "2               Yes       54       3      8  Traditional Shelter  \n",
       "3               Yes       54       4      3      No-Kill Shelter  "
      ]
     },
     "execution_count": 5,
     "metadata": {},
     "output_type": "execute_result"
    }
   ],
   "source": [
    "# Init DF\n",
    "df = pd.DataFrame(columns=desired_cols)\n",
    "\n",
    "# Loop through rows\n",
    "idx = 0\n",
    "for idx, row in df_init.iterrows():\n",
    "    base_row = row[trim_cols].tolist()\n",
    "\n",
    "    for i in range(1, 5):\n",
    "        sizes = row[[f'sm_{i}', f'med_{i}', f'lg_{i}']]\n",
    "        rating = int(sizes[~sizes.isnull()][0])\n",
    "        if row['shelter_treat_bin'] == 'No':\n",
    "            shelter_tp = None\n",
    "        else:\n",
    "            shelter_tp = row[f'shelter_tp_{i}']\n",
    "        new_row = base_row.copy() + [i, rating, shelter_tp]\n",
    "\n",
    "        # save out\n",
    "        df.loc[len(df), ] = new_row\n",
    "\n",
    "df.head()"
   ]
  },
  {
   "cell_type": "code",
   "execution_count": 6,
   "metadata": {},
   "outputs": [],
   "source": [
    "## Create feature at participant-dog level\n",
    "\n",
    "# We have two treatments: msg_treat_ind and shelter_tp\n",
    "# Need to make shelter_tp have 3 categories: (None, Trad, NK)\n",
    "# implemented above but need to test on actual example"
   ]
  },
  {
   "cell_type": "markdown",
   "metadata": {},
   "source": [
    "## Convert Data Types"
   ]
  },
  {
   "cell_type": "code",
   "execution_count": 7,
   "metadata": {},
   "outputs": [
    {
     "data": {
      "text/html": [
       "<div>\n",
       "<style scoped>\n",
       "    .dataframe tbody tr th:only-of-type {\n",
       "        vertical-align: middle;\n",
       "    }\n",
       "\n",
       "    .dataframe tbody tr th {\n",
       "        vertical-align: top;\n",
       "    }\n",
       "\n",
       "    .dataframe thead th {\n",
       "        text-align: right;\n",
       "    }\n",
       "</style>\n",
       "<table border=\"1\" class=\"dataframe\">\n",
       "  <thead>\n",
       "    <tr style=\"text-align: right;\">\n",
       "      <th></th>\n",
       "      <th>No, but I own another pet</th>\n",
       "    </tr>\n",
       "  </thead>\n",
       "  <tbody>\n",
       "    <tr>\n",
       "      <th>0</th>\n",
       "      <td>1</td>\n",
       "    </tr>\n",
       "  </tbody>\n",
       "</table>\n",
       "</div>"
      ],
      "text/plain": [
       "   No, but I own another pet\n",
       "0                          1"
      ]
     },
     "execution_count": 7,
     "metadata": {},
     "output_type": "execute_result"
    }
   ],
   "source": [
    "# Convert categorical to dummy\n",
    "pd.get_dummies(df_init['own_dog'])"
   ]
  },
  {
   "cell_type": "code",
   "execution_count": null,
   "metadata": {},
   "outputs": [],
   "source": []
  },
  {
   "cell_type": "markdown",
   "metadata": {},
   "source": [
    "### Analysis Notes\n",
    "- Run LR on the full dataset (Create interaction terms with treatments)\n",
    "- Key areas to investigate\n",
    "    - What had the greatest effect on ratings?\n",
    "    - Did the message treatment alone increase ratings?\n",
    "    - Did the shelter tp treatment alone increase?\n",
    "    - Did the interaction of treatments increase? Which was strongest?\n",
    "    - Which covariates were most impactful?\n",
    "        - Ex: did the survey completion time effect ratings?\n",
    "- Run LR on subsets of features to get a set of models \n",
    "- Run F-Test acros models to see which models are most predictive/significant"
   ]
  },
  {
   "cell_type": "code",
   "execution_count": null,
   "metadata": {},
   "outputs": [],
   "source": []
  },
  {
   "cell_type": "code",
   "execution_count": null,
   "metadata": {},
   "outputs": [],
   "source": []
  }
 ],
 "metadata": {
  "kernelspec": {
   "display_name": "Python 3.10.0 ('w281')",
   "language": "python",
   "name": "python3"
  },
  "language_info": {
   "codemirror_mode": {
    "name": "ipython",
    "version": 3
   },
   "file_extension": ".py",
   "mimetype": "text/x-python",
   "name": "python",
   "nbconvert_exporter": "python",
   "pygments_lexer": "ipython3",
   "version": "3.10.0"
  },
  "orig_nbformat": 4,
  "vscode": {
   "interpreter": {
    "hash": "7690e95adedd8191f0ce86c5df02585ffc130729bec63a8b5bda66e6900601ad"
   }
  }
 },
 "nbformat": 4,
 "nbformat_minor": 2
}
